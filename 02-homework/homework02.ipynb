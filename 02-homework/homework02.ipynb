{
 "cells": [
  {
   "cell_type": "code",
   "execution_count": null,
   "id": "8af164b7",
   "metadata": {},
   "outputs": [],
   "source": []
  },
  {
   "cell_type": "code",
   "execution_count": 1,
   "id": "c598c3d8",
   "metadata": {},
   "outputs": [],
   "source": [
    "import pandas as pd"
   ]
  },
  {
   "cell_type": "code",
   "execution_count": 2,
   "id": "ac420623",
   "metadata": {},
   "outputs": [],
   "source": [
    "df = pd.read_csv('https://raw.githubusercontent.com/alexeygrigorev/datasets/master/car_fuel_efficiency.csv')"
   ]
  },
  {
   "cell_type": "code",
   "execution_count": 3,
   "id": "8b48cb34",
   "metadata": {},
   "outputs": [
    {
     "data": {
      "text/html": [
       "<div>\n",
       "<style scoped>\n",
       "    .dataframe tbody tr th:only-of-type {\n",
       "        vertical-align: middle;\n",
       "    }\n",
       "\n",
       "    .dataframe tbody tr th {\n",
       "        vertical-align: top;\n",
       "    }\n",
       "\n",
       "    .dataframe thead th {\n",
       "        text-align: right;\n",
       "    }\n",
       "</style>\n",
       "<table border=\"1\" class=\"dataframe\">\n",
       "  <thead>\n",
       "    <tr style=\"text-align: right;\">\n",
       "      <th></th>\n",
       "      <th>engine_displacement</th>\n",
       "      <th>num_cylinders</th>\n",
       "      <th>horsepower</th>\n",
       "      <th>vehicle_weight</th>\n",
       "      <th>acceleration</th>\n",
       "      <th>model_year</th>\n",
       "      <th>origin</th>\n",
       "      <th>fuel_type</th>\n",
       "      <th>drivetrain</th>\n",
       "      <th>num_doors</th>\n",
       "      <th>fuel_efficiency_mpg</th>\n",
       "    </tr>\n",
       "  </thead>\n",
       "  <tbody>\n",
       "    <tr>\n",
       "      <th>0</th>\n",
       "      <td>170</td>\n",
       "      <td>3.0</td>\n",
       "      <td>159.0</td>\n",
       "      <td>3413.433759</td>\n",
       "      <td>17.7</td>\n",
       "      <td>2003</td>\n",
       "      <td>Europe</td>\n",
       "      <td>Gasoline</td>\n",
       "      <td>All-wheel drive</td>\n",
       "      <td>0.0</td>\n",
       "      <td>13.231729</td>\n",
       "    </tr>\n",
       "    <tr>\n",
       "      <th>1</th>\n",
       "      <td>130</td>\n",
       "      <td>5.0</td>\n",
       "      <td>97.0</td>\n",
       "      <td>3149.664934</td>\n",
       "      <td>17.8</td>\n",
       "      <td>2007</td>\n",
       "      <td>USA</td>\n",
       "      <td>Gasoline</td>\n",
       "      <td>Front-wheel drive</td>\n",
       "      <td>0.0</td>\n",
       "      <td>13.688217</td>\n",
       "    </tr>\n",
       "    <tr>\n",
       "      <th>2</th>\n",
       "      <td>170</td>\n",
       "      <td>NaN</td>\n",
       "      <td>78.0</td>\n",
       "      <td>3079.038997</td>\n",
       "      <td>15.1</td>\n",
       "      <td>2018</td>\n",
       "      <td>Europe</td>\n",
       "      <td>Gasoline</td>\n",
       "      <td>Front-wheel drive</td>\n",
       "      <td>0.0</td>\n",
       "      <td>14.246341</td>\n",
       "    </tr>\n",
       "    <tr>\n",
       "      <th>3</th>\n",
       "      <td>220</td>\n",
       "      <td>4.0</td>\n",
       "      <td>NaN</td>\n",
       "      <td>2542.392402</td>\n",
       "      <td>20.2</td>\n",
       "      <td>2009</td>\n",
       "      <td>USA</td>\n",
       "      <td>Diesel</td>\n",
       "      <td>All-wheel drive</td>\n",
       "      <td>2.0</td>\n",
       "      <td>16.912736</td>\n",
       "    </tr>\n",
       "    <tr>\n",
       "      <th>4</th>\n",
       "      <td>210</td>\n",
       "      <td>1.0</td>\n",
       "      <td>140.0</td>\n",
       "      <td>3460.870990</td>\n",
       "      <td>14.4</td>\n",
       "      <td>2009</td>\n",
       "      <td>Europe</td>\n",
       "      <td>Gasoline</td>\n",
       "      <td>All-wheel drive</td>\n",
       "      <td>2.0</td>\n",
       "      <td>12.488369</td>\n",
       "    </tr>\n",
       "  </tbody>\n",
       "</table>\n",
       "</div>"
      ],
      "text/plain": [
       "   engine_displacement  num_cylinders  horsepower  vehicle_weight  \\\n",
       "0                  170            3.0       159.0     3413.433759   \n",
       "1                  130            5.0        97.0     3149.664934   \n",
       "2                  170            NaN        78.0     3079.038997   \n",
       "3                  220            4.0         NaN     2542.392402   \n",
       "4                  210            1.0       140.0     3460.870990   \n",
       "\n",
       "   acceleration  model_year  origin fuel_type         drivetrain  num_doors  \\\n",
       "0          17.7        2003  Europe  Gasoline    All-wheel drive        0.0   \n",
       "1          17.8        2007     USA  Gasoline  Front-wheel drive        0.0   \n",
       "2          15.1        2018  Europe  Gasoline  Front-wheel drive        0.0   \n",
       "3          20.2        2009     USA    Diesel    All-wheel drive        2.0   \n",
       "4          14.4        2009  Europe  Gasoline    All-wheel drive        2.0   \n",
       "\n",
       "   fuel_efficiency_mpg  \n",
       "0            13.231729  \n",
       "1            13.688217  \n",
       "2            14.246341  \n",
       "3            16.912736  \n",
       "4            12.488369  "
      ]
     },
     "execution_count": 3,
     "metadata": {},
     "output_type": "execute_result"
    }
   ],
   "source": [
    "df.head()"
   ]
  },
  {
   "cell_type": "code",
   "execution_count": 4,
   "id": "e99b697c",
   "metadata": {},
   "outputs": [],
   "source": [
    "df_filtered= df[['engine_displacement',\n",
    "    'horsepower',\n",
    "    'vehicle_weight',\n",
    "    'model_year',\n",
    "    'fuel_efficiency_mpg'\n",
    "]]"
   ]
  },
  {
   "cell_type": "code",
   "execution_count": 5,
   "id": "8eab679a",
   "metadata": {},
   "outputs": [
    {
     "data": {
      "text/html": [
       "<div>\n",
       "<style scoped>\n",
       "    .dataframe tbody tr th:only-of-type {\n",
       "        vertical-align: middle;\n",
       "    }\n",
       "\n",
       "    .dataframe tbody tr th {\n",
       "        vertical-align: top;\n",
       "    }\n",
       "\n",
       "    .dataframe thead th {\n",
       "        text-align: right;\n",
       "    }\n",
       "</style>\n",
       "<table border=\"1\" class=\"dataframe\">\n",
       "  <thead>\n",
       "    <tr style=\"text-align: right;\">\n",
       "      <th></th>\n",
       "      <th>engine_displacement</th>\n",
       "      <th>horsepower</th>\n",
       "      <th>vehicle_weight</th>\n",
       "      <th>model_year</th>\n",
       "      <th>fuel_efficiency_mpg</th>\n",
       "    </tr>\n",
       "  </thead>\n",
       "  <tbody>\n",
       "    <tr>\n",
       "      <th>0</th>\n",
       "      <td>170</td>\n",
       "      <td>159.0</td>\n",
       "      <td>3413.433759</td>\n",
       "      <td>2003</td>\n",
       "      <td>13.231729</td>\n",
       "    </tr>\n",
       "    <tr>\n",
       "      <th>1</th>\n",
       "      <td>130</td>\n",
       "      <td>97.0</td>\n",
       "      <td>3149.664934</td>\n",
       "      <td>2007</td>\n",
       "      <td>13.688217</td>\n",
       "    </tr>\n",
       "    <tr>\n",
       "      <th>2</th>\n",
       "      <td>170</td>\n",
       "      <td>78.0</td>\n",
       "      <td>3079.038997</td>\n",
       "      <td>2018</td>\n",
       "      <td>14.246341</td>\n",
       "    </tr>\n",
       "    <tr>\n",
       "      <th>3</th>\n",
       "      <td>220</td>\n",
       "      <td>NaN</td>\n",
       "      <td>2542.392402</td>\n",
       "      <td>2009</td>\n",
       "      <td>16.912736</td>\n",
       "    </tr>\n",
       "    <tr>\n",
       "      <th>4</th>\n",
       "      <td>210</td>\n",
       "      <td>140.0</td>\n",
       "      <td>3460.870990</td>\n",
       "      <td>2009</td>\n",
       "      <td>12.488369</td>\n",
       "    </tr>\n",
       "  </tbody>\n",
       "</table>\n",
       "</div>"
      ],
      "text/plain": [
       "   engine_displacement  horsepower  vehicle_weight  model_year  \\\n",
       "0                  170       159.0     3413.433759        2003   \n",
       "1                  130        97.0     3149.664934        2007   \n",
       "2                  170        78.0     3079.038997        2018   \n",
       "3                  220         NaN     2542.392402        2009   \n",
       "4                  210       140.0     3460.870990        2009   \n",
       "\n",
       "   fuel_efficiency_mpg  \n",
       "0            13.231729  \n",
       "1            13.688217  \n",
       "2            14.246341  \n",
       "3            16.912736  \n",
       "4            12.488369  "
      ]
     },
     "execution_count": 5,
     "metadata": {},
     "output_type": "execute_result"
    }
   ],
   "source": [
    "df_filtered.head()"
   ]
  },
  {
   "cell_type": "code",
   "execution_count": 6,
   "id": "87a0ef78",
   "metadata": {},
   "outputs": [
    {
     "data": {
      "text/plain": [
       "<Axes: xlabel='fuel_efficiency_mpg', ylabel='Count'>"
      ]
     },
     "execution_count": 6,
     "metadata": {},
     "output_type": "execute_result"
    },
    {
     "data": {
      "image/png": "[encoded data removed]",
      "text/plain": [
       "<Figure size 640x480 with 1 Axes>"
      ]
     },
     "metadata": {},
     "output_type": "display_data"
    }
   ],
   "source": [
    "import seaborn as sns\n",
    "%matplotlib inline\n",
    "sns.histplot(df_filtered['fuel_efficiency_mpg'])"
   ]
  },
  {
   "cell_type": "code",
   "execution_count": 7,
   "id": "a1e07a44",
   "metadata": {},
   "outputs": [
    {
     "data": {
      "text/plain": [
       "engine_displacement      0\n",
       "horsepower             708\n",
       "vehicle_weight           0\n",
       "model_year               0\n",
       "fuel_efficiency_mpg      0\n",
       "dtype: int64"
      ]
     },
     "execution_count": 7,
     "metadata": {},
     "output_type": "execute_result"
    }
   ],
   "source": [
    "df_filtered.isna().sum()"
   ]
  },
  {
   "cell_type": "code",
   "execution_count": 8,
   "id": "faa3b022",
   "metadata": {},
   "outputs": [
    {
     "data": {
      "text/plain": [
       "np.float64(149.0)"
      ]
     },
     "execution_count": 8,
     "metadata": {},
     "output_type": "execute_result"
    }
   ],
   "source": [
    "df_filtered['horsepower'].median()"
   ]
  },
  {
   "cell_type": "code",
   "execution_count": 9,
   "id": "160ffec9",
   "metadata": {},
   "outputs": [],
   "source": [
    "n= len(df_filtered)\n",
    "n_val= int(len(df_filtered)*0.2)\n",
    "n_test = int(len(df_filtered)*0.2)\n",
    "n_train= n-n_val-n_test\n"
   ]
  },
  {
   "cell_type": "markdown",
   "id": "fa82103a",
   "metadata": {},
   "source": [
    "Shuffle data"
   ]
  },
  {
   "cell_type": "code",
   "execution_count": 10,
   "id": "c0507542",
   "metadata": {},
   "outputs": [],
   "source": [
    "import numpy as np\n",
    "idx=np.arange(n)\n",
    "np.random.seed(42)\n",
    "np.random.shuffle(idx)\n",
    "\n",
    "df_train = df_filtered.iloc[idx[:n_train]]\n",
    "df_val = df_filtered.iloc[idx[n_train:n_train+n_val]]\n",
    "df_test = df_filtered.iloc[idx[n_train+n_val:]]"
   ]
  },
  {
   "cell_type": "code",
   "execution_count": 11,
   "id": "483a92da",
   "metadata": {},
   "outputs": [],
   "source": [
    "df_train = df_train.reset_index(drop=True)"
   ]
  },
  {
   "cell_type": "code",
   "execution_count": 12,
   "id": "eda372b6",
   "metadata": {},
   "outputs": [],
   "source": [
    "#np.log1p(df_train.fuel_efficiency_mpg.values)"
   ]
  },
  {
   "cell_type": "code",
   "execution_count": 13,
   "id": "6680da99",
   "metadata": {},
   "outputs": [],
   "source": [
    "y_train=df_train.fuel_efficiency_mpg.values\n",
    "y_val=df_val.fuel_efficiency_mpg.values\n",
    "y_test =df_test.fuel_efficiency_mpg.values"
   ]
  },
  {
   "cell_type": "code",
   "execution_count": 14,
   "id": "f1285165",
   "metadata": {},
   "outputs": [],
   "source": [
    "del df_train['fuel_efficiency_mpg']\n",
    "del df_val['fuel_efficiency_mpg']\n",
    "del df_test['fuel_efficiency_mpg']"
   ]
  },
  {
   "cell_type": "markdown",
   "id": "61a39c83",
   "metadata": {},
   "source": [
    "Linear regression"
   ]
  },
  {
   "cell_type": "code",
   "execution_count": 15,
   "id": "696df30d",
   "metadata": {},
   "outputs": [],
   "source": [
    "def train_linear_regression(X, y):\n",
    "    ones = np.ones(X.shape[0])\n",
    "    X= np.column_stack([ones, X])\n",
    "    XTX = X.T.dot(X)\n",
    "    XTX_inv = np.linalg.inv(XTX)\n",
    "    w_full = XTX_inv.dot(X.T).dot(y)\n",
    "\n",
    "    return w_full[0], w_full[1:]"
   ]
  },
  {
   "cell_type": "code",
   "execution_count": 16,
   "id": "40e7492c",
   "metadata": {},
   "outputs": [
    {
     "data": {
      "text/plain": [
       "(np.float64(nan), array([nan, nan, nan, nan]))"
      ]
     },
     "execution_count": 16,
     "metadata": {},
     "output_type": "execute_result"
    }
   ],
   "source": [
    "train_linear_regression(df_train.values, y_train)"
   ]
  },
  {
   "cell_type": "code",
   "execution_count": 17,
   "id": "82973eab",
   "metadata": {},
   "outputs": [
    {
     "data": {
      "text/plain": [
       "engine_displacement      0\n",
       "horsepower             429\n",
       "vehicle_weight           0\n",
       "model_year               0\n",
       "dtype: int64"
      ]
     },
     "execution_count": 17,
     "metadata": {},
     "output_type": "execute_result"
    }
   ],
   "source": [
    "df_train.isnull().sum()"
   ]
  },
  {
   "cell_type": "markdown",
   "id": "c77758ed",
   "metadata": {},
   "source": [
    "RMSE"
   ]
  },
  {
   "cell_type": "code",
   "execution_count": 18,
   "id": "72418fa4",
   "metadata": {},
   "outputs": [],
   "source": [
    "def rmse(y, y_pred):\n",
    "    error = y-y_pred\n",
    "    se= error**2\n",
    "    mse= se.mean()\n",
    "    return np.sqrt(mse)"
   ]
  },
  {
   "cell_type": "markdown",
   "id": "6e65b264",
   "metadata": {},
   "source": [
    "Fill na with 0"
   ]
  },
  {
   "cell_type": "code",
   "execution_count": 19,
   "id": "1ad3b882",
   "metadata": {},
   "outputs": [],
   "source": [
    "df_train_0= df_train.fillna(0)\n",
    "w0, w= train_linear_regression(df_train_0.values, y_train)"
   ]
  },
  {
   "cell_type": "code",
   "execution_count": 20,
   "id": "5aec3ec4",
   "metadata": {},
   "outputs": [],
   "source": [
    "y_pred = w0 + df_train_0.dot(w)"
   ]
  },
  {
   "cell_type": "code",
   "execution_count": 21,
   "id": "e56cf19b",
   "metadata": {},
   "outputs": [
    {
     "data": {
      "text/plain": [
       "<Axes: ylabel='Count'>"
      ]
     },
     "execution_count": 21,
     "metadata": {},
     "output_type": "execute_result"
    },
    {
     "data": {
      "image/png": "[encoded data removed]",
      "text/plain": [
       "<Figure size 640x480 with 1 Axes>"
      ]
     },
     "metadata": {},
     "output_type": "display_data"
    }
   ],
   "source": [
    "sns.histplot(y_pred, color='red', alpha=0.5, bins=50)\n",
    "sns.histplot(y_train, color='blue', alpha=0.5, bins=50)"
   ]
  },
  {
   "cell_type": "code",
   "execution_count": 22,
   "id": "f5b6e374",
   "metadata": {},
   "outputs": [
    {
     "data": {
      "text/plain": [
       "np.float64(0.5202614265099076)"
      ]
     },
     "execution_count": 22,
     "metadata": {},
     "output_type": "execute_result"
    }
   ],
   "source": [
    "rmse(y_train, y_pred)"
   ]
  },
  {
   "cell_type": "markdown",
   "id": "9d423f2b",
   "metadata": {},
   "source": [
    "Validation"
   ]
  },
  {
   "cell_type": "code",
   "execution_count": 23,
   "id": "6ec5192c",
   "metadata": {},
   "outputs": [
    {
     "data": {
      "text/plain": [
       "np.float64(0.52)"
      ]
     },
     "execution_count": 23,
     "metadata": {},
     "output_type": "execute_result"
    }
   ],
   "source": [
    "df_val_0= df_val.fillna(0)\n",
    "y_pred_v= w0+df_val_0.dot(w)\n",
    "round(rmse(y_val, y_pred_v),2)"
   ]
  },
  {
   "cell_type": "markdown",
   "id": "fa09b26c",
   "metadata": {},
   "source": [
    "Fill na with mean of horsepower"
   ]
  },
  {
   "cell_type": "code",
   "execution_count": 24,
   "id": "69b723df",
   "metadata": {},
   "outputs": [],
   "source": [
    "df_train_mean= df_train.fillna(df_train['horsepower'].mean())\n",
    "w0, w = train_linear_regression(df_train_mean.values, y_train)\n",
    "y_pred_mean = w0 + df_train_0.dot(w)\n"
   ]
  },
  {
   "cell_type": "code",
   "execution_count": 25,
   "id": "2f1de490",
   "metadata": {},
   "outputs": [
    {
     "data": {
      "text/plain": [
       "<Axes: ylabel='Count'>"
      ]
     },
     "execution_count": 25,
     "metadata": {},
     "output_type": "execute_result"
    },
    {
     "data": {
      "image/png": "[encoded data removed]",
      "text/plain": [
       "<Figure size 640x480 with 1 Axes>"
      ]
     },
     "metadata": {},
     "output_type": "display_data"
    }
   ],
   "source": [
    "sns.histplot(y_pred_mean, color='red', alpha=0.5, bins=50)\n",
    "sns.histplot(y_train, color='blue', alpha=0.5, bins=50)"
   ]
  },
  {
   "cell_type": "code",
   "execution_count": 26,
   "id": "2f59f4d5",
   "metadata": {},
   "outputs": [
    {
     "data": {
      "text/plain": [
       "np.float64(0.6248117960544057)"
      ]
     },
     "execution_count": 26,
     "metadata": {},
     "output_type": "execute_result"
    }
   ],
   "source": [
    "rmse(y_train, y_pred_mean)"
   ]
  },
  {
   "cell_type": "code",
   "execution_count": 27,
   "id": "9c455657",
   "metadata": {},
   "outputs": [
    {
     "data": {
      "text/plain": [
       "np.float64(0.46)"
      ]
     },
     "execution_count": 27,
     "metadata": {},
     "output_type": "execute_result"
    }
   ],
   "source": [
    "df_val_mean= df_val.fillna(df_train['horsepower'].mean())\n",
    "y_pred_mean= w0+df_val_mean.dot(w)\n",
    "round(rmse(y_val, y_pred_mean),2)"
   ]
  },
  {
   "cell_type": "markdown",
   "id": "116a7edc",
   "metadata": {},
   "source": [
    "Regularization"
   ]
  },
  {
   "cell_type": "code",
   "execution_count": 28,
   "id": "52918f6e",
   "metadata": {},
   "outputs": [],
   "source": [
    "def train_linear_regression_reg(X,y, r =0.001):\n",
    "    ones = np.ones(X.shape[0])\n",
    "    X= np.column_stack([ones, X])\n",
    "\n",
    "    XTX = X.T.dot(X)\n",
    "    XTX = XTX + r*np.eye(XTX.shape[0])\n",
    "\n",
    "\n",
    "    XTX_inv = np.linalg.inv(XTX)\n",
    "    w_full = XTX_inv.dot(X.T).dot(y)\n",
    "\n",
    "    return w_full[0], w_full[1:]\n",
    "    "
   ]
  },
  {
   "cell_type": "code",
   "execution_count": 29,
   "id": "437ef241",
   "metadata": {},
   "outputs": [
    {
     "name": "stdout",
     "output_type": "stream",
     "text": [
      "0.0 28.827365475106156 0.517\n",
      "0.01 24.92683842008767 0.517\n",
      "0.1 11.239661084961272 0.519\n",
      "1 1.7315979411936366 0.522\n",
      "5 0.3638075020692219 0.523\n",
      "10 0.18306246622306527 0.523\n",
      "100 0.018418017306977234 0.523\n"
     ]
    }
   ],
   "source": [
    "r_list = [0.0, 0.01, 0.1, 1, 5, 10, 100]\n",
    "\n",
    "for r in r_list:\n",
    "    df_train_0= df_train.fillna(0)\n",
    "    w0, w= train_linear_regression_reg(df_train_0.values, y_train, r)\n",
    "    y_pred = w0 + df_train_0.dot(w)\n",
    "\n",
    "    df_val_0= df_val.fillna(0)\n",
    "    y_pred_v= w0+df_val_0.dot(w)\n",
    "    rmse_value= round(rmse(y_val, y_pred_v),3)\n",
    "    print(r, w0, rmse_value)"
   ]
  },
  {
   "cell_type": "code",
   "execution_count": 30,
   "id": "7dd05ddc",
   "metadata": {},
   "outputs": [],
   "source": [
    "df_full_train = pd.concat([df_train, df_val])\n",
    "df_full_train= df_full_train.reset_index(drop= True)\n",
    "X_full_train = df_full_train.fillna(0)"
   ]
  },
  {
   "cell_type": "code",
   "execution_count": 31,
   "id": "a9e63869",
   "metadata": {},
   "outputs": [],
   "source": [
    "y_full_train = np.concatenate([y_train, y_val])"
   ]
  },
  {
   "cell_type": "code",
   "execution_count": 33,
   "id": "e51cff41",
   "metadata": {},
   "outputs": [],
   "source": [
    "w0, w= train_linear_regression_reg(X_full_train.values, y_full_train, r=0.01)"
   ]
  },
  {
   "cell_type": "code",
   "execution_count": 35,
   "id": "8d864022",
   "metadata": {},
   "outputs": [
    {
     "name": "stdout",
     "output_type": "stream",
     "text": [
      "24.645272806104025 0.517\n"
     ]
    }
   ],
   "source": [
    "X_test= df_test.fillna(0)\n",
    "y_pred= w0+X_test.dot(w)\n",
    "rmse_value= round(rmse(y_test, y_pred),3)\n",
    "print(w0, rmse_value)"
   ]
  },
  {
   "cell_type": "code",
   "execution_count": 47,
   "id": "a8366909",
   "metadata": {},
   "outputs": [],
   "source": [
    "def train_model(seed, df_filtered):\n",
    "    print(seed)\n",
    "    n= len(df_filtered)\n",
    "    n_val= int(len(df_filtered)*0.2)\n",
    "    n_test = int(len(df_filtered)*0.2)\n",
    "    n_train= n-n_val-n_test\n",
    "       \n",
    "    idx=np.arange(n)\n",
    "    np.random.seed(seed)\n",
    "    np.random.shuffle(idx)\n",
    "\n",
    "    df_train = df_filtered.iloc[idx[:n_train]]\n",
    "    df_val = df_filtered.iloc[idx[n_train:n_train+n_val]]\n",
    "    df_test = df_filtered.iloc[idx[n_train+n_val:]]\n",
    "    \n",
    "    y_train=df_train.fuel_efficiency_mpg.values\n",
    "    y_val=df_val.fuel_efficiency_mpg.values\n",
    "    y_test =df_test.fuel_efficiency_mpg.values\n",
    "    \n",
    "    del df_train['fuel_efficiency_mpg']\n",
    "    del df_val['fuel_efficiency_mpg']\n",
    "    del df_test['fuel_efficiency_mpg']\n",
    "    \n",
    "    df_train_0= df_train.fillna(0)\n",
    "    w0, w= train_linear_regression(df_train_0.values, y_train)\n",
    "    y_pred = w0 + df_train_0.dot(w)\n",
    "    print(\"Score train: \",rmse(y_train, y_pred))\n",
    "\n",
    "    df_val_0= df_val.fillna(0)\n",
    "    y_pred_v= w0+df_val_0.dot(w)\n",
    "    rmse_value= round(rmse(y_val, y_pred_v),3)\n",
    "    print(\"score validation: \", rmse_value)\n",
    "    return rmse_value\n",
    "\n"
   ]
  },
  {
   "cell_type": "code",
   "execution_count": 48,
   "id": "1335943e",
   "metadata": {},
   "outputs": [
    {
     "name": "stdout",
     "output_type": "stream",
     "text": [
      "0\n",
      "Score train:  0.5171560913636251\n",
      "score validation:  0.521\n",
      "1\n",
      "Score train:  0.5148529296311273\n",
      "score validation:  0.521\n",
      "2\n",
      "Score train:  0.520558311480986\n",
      "score validation:  0.523\n",
      "3\n",
      "Score train:  0.5198664820191077\n",
      "score validation:  0.516\n",
      "4\n",
      "Score train:  0.5171675510792179\n",
      "score validation:  0.511\n",
      "5\n",
      "Score train:  0.5195177528194667\n",
      "score validation:  0.528\n",
      "6\n",
      "Score train:  0.5124114964022372\n",
      "score validation:  0.531\n",
      "7\n",
      "Score train:  0.524763629954572\n",
      "score validation:  0.509\n",
      "8\n",
      "Score train:  0.524306385184493\n",
      "score validation:  0.515\n",
      "9\n",
      "Score train:  0.5219709782195826\n",
      "score validation:  0.513\n",
      "[np.float64(0.521), np.float64(0.521), np.float64(0.523), np.float64(0.516), np.float64(0.511), np.float64(0.528), np.float64(0.531), np.float64(0.509), np.float64(0.515), np.float64(0.513)]\n"
     ]
    }
   ],
   "source": [
    "seed_list= [0, 1, 2, 3, 4, 5, 6, 7, 8, 9]\n",
    "score_list = []\n",
    "for seed in seed_list:\n",
    "    score = train_model(seed, df_filtered)\n",
    "    score_list.append(score)\n",
    "\n",
    "print(score_list)"
   ]
  },
  {
   "cell_type": "code",
   "execution_count": 49,
   "id": "8a07bc18",
   "metadata": {},
   "outputs": [
    {
     "data": {
      "text/plain": [
       "np.float64(0.007)"
      ]
     },
     "execution_count": 49,
     "metadata": {},
     "output_type": "execute_result"
    }
   ],
   "source": [
    "round(np.std(score_list),3)"
   ]
  },
  {
   "cell_type": "code",
   "execution_count": 50,
   "id": "e3e5d048",
   "metadata": {},
   "outputs": [
    {
     "name": "stdout",
     "output_type": "stream",
     "text": [
      "9\n",
      "Score train:  0.5219709782195826\n",
      "score validation:  0.513\n",
      "score test:  0.516\n"
     ]
    },
    {
     "data": {
      "text/plain": [
       "np.float64(0.516)"
      ]
     },
     "execution_count": 50,
     "metadata": {},
     "output_type": "execute_result"
    }
   ],
   "source": [
    "def train_model(seed):\n",
    "    print(seed)\n",
    "    n= len(df_filtered)\n",
    "    n_val= int(len(df_filtered)*0.2)\n",
    "    n_test = int(len(df_filtered)*0.2)\n",
    "    n_train= n-n_val-n_test\n",
    "       \n",
    "    idx=np.arange(n)\n",
    "    np.random.seed(seed)\n",
    "    np.random.shuffle(idx)\n",
    "\n",
    "    df_train = df_filtered.iloc[idx[:n_train]]\n",
    "    df_val = df_filtered.iloc[idx[n_train:n_train+n_val]]\n",
    "    df_test = df_filtered.iloc[idx[n_train+n_val:]]\n",
    "    \n",
    "    y_train=df_train.fuel_efficiency_mpg.values\n",
    "    y_val=df_val.fuel_efficiency_mpg.values\n",
    "    y_test =df_test.fuel_efficiency_mpg.values\n",
    "    \n",
    "    del df_train['fuel_efficiency_mpg']\n",
    "    del df_val['fuel_efficiency_mpg']\n",
    "    del df_test['fuel_efficiency_mpg']\n",
    "    \n",
    "    \n",
    "    \n",
    "    df_train_0= df_train.fillna(0)\n",
    "    w0, w= train_linear_regression(df_train_0.values, y_train)\n",
    "    y_pred = w0 + df_train_0.dot(w)\n",
    "    print(\"Score train: \",rmse(y_train, y_pred))\n",
    "\n",
    "    df_val_0= df_val.fillna(0)\n",
    "    y_pred_v= w0+df_val_0.dot(w)\n",
    "    rmse_value= round(rmse(y_val, y_pred_v),3)\n",
    "    print(\"score validation: \", rmse_value)\n",
    "\n",
    "    df_full_train = pd.concat([df_train, df_val])\n",
    "    df_full_train= df_full_train.reset_index(drop= True)\n",
    "    X_full_train = df_full_train.fillna(0)\n",
    "    y_full_train = np.concatenate([y_train, y_val])\n",
    "    w0, w= train_linear_regression_reg(X_full_train.values, y_full_train, r=0.001)\n",
    "    X_test= df_test.fillna(0)\n",
    "    y_pred= w0+X_test.dot(w)\n",
    "    rmse_value= round(rmse(y_test, y_pred),3)\n",
    "    print(\"score test: \", rmse_value)\n",
    "    return rmse_value\n",
    "\n",
    "train_model(seed=9)"
   ]
  }
 ],
 "metadata": {
  "kernelspec": {
   "display_name": "Python 3",
   "language": "python",
   "name": "python3"
  },
  "language_info": {
   "codemirror_mode": {
    "name": "ipython",
    "version": 3
   },
   "file_extension": ".py",
   "mimetype": "text/x-python",
   "name": "python",
   "nbconvert_exporter": "python",
   "pygments_lexer": "ipython3",
   "version": "3.12.1"
  }
 },
 "nbformat": 4,
 "nbformat_minor": 5
}
