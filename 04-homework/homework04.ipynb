{
 "cells": [
  {
   "cell_type": "markdown",
   "id": "39aaa3f5",
   "metadata": {},
   "source": [
    "Data preparation\n",
    "\n",
    "random_state=1\n",
    "url= 'https://raw.githubusercontent.com/alexeygrigorev/datasets/master/course_lead_scoring.csv'\n",
    "#train/validation/test with 60%/20%/20%\n",
    "if there are missing values:\n",
    "    For caterogiral features, replace them with 'NA'\n",
    "    For numerical features, replace with with 0.0\n",
    "\n",
    "classification: converted variable\n"
   ]
  },
  {
   "cell_type": "code",
   "execution_count": 1,
   "id": "e533b607",
   "metadata": {},
   "outputs": [],
   "source": [
    "import pandas as pd\n",
    "import numpy as np\n",
    "import matplotlib.pyplot as plt\n",
    "from sklearn.model_selection import train_test_split\n",
    "from sklearn.feature_extraction import DictVectorizer\n",
    "from sklearn.linear_model import LogisticRegression"
   ]
  },
  {
   "cell_type": "code",
   "execution_count": 2,
   "id": "1832aca6",
   "metadata": {},
   "outputs": [
    {
     "data": {
      "text/html": [
       "<div>\n",
       "<style scoped>\n",
       "    .dataframe tbody tr th:only-of-type {\n",
       "        vertical-align: middle;\n",
       "    }\n",
       "\n",
       "    .dataframe tbody tr th {\n",
       "        vertical-align: top;\n",
       "    }\n",
       "\n",
       "    .dataframe thead th {\n",
       "        text-align: right;\n",
       "    }\n",
       "</style>\n",
       "<table border=\"1\" class=\"dataframe\">\n",
       "  <thead>\n",
       "    <tr style=\"text-align: right;\">\n",
       "      <th></th>\n",
       "      <th>lead_source</th>\n",
       "      <th>industry</th>\n",
       "      <th>number_of_courses_viewed</th>\n",
       "      <th>annual_income</th>\n",
       "      <th>employment_status</th>\n",
       "      <th>location</th>\n",
       "      <th>interaction_count</th>\n",
       "      <th>lead_score</th>\n",
       "      <th>converted</th>\n",
       "    </tr>\n",
       "  </thead>\n",
       "  <tbody>\n",
       "    <tr>\n",
       "      <th>0</th>\n",
       "      <td>paid_ads</td>\n",
       "      <td>NaN</td>\n",
       "      <td>1</td>\n",
       "      <td>79450.0</td>\n",
       "      <td>unemployed</td>\n",
       "      <td>south_america</td>\n",
       "      <td>4</td>\n",
       "      <td>0.94</td>\n",
       "      <td>1</td>\n",
       "    </tr>\n",
       "    <tr>\n",
       "      <th>1</th>\n",
       "      <td>social_media</td>\n",
       "      <td>retail</td>\n",
       "      <td>1</td>\n",
       "      <td>46992.0</td>\n",
       "      <td>employed</td>\n",
       "      <td>south_america</td>\n",
       "      <td>1</td>\n",
       "      <td>0.80</td>\n",
       "      <td>0</td>\n",
       "    </tr>\n",
       "    <tr>\n",
       "      <th>2</th>\n",
       "      <td>events</td>\n",
       "      <td>healthcare</td>\n",
       "      <td>5</td>\n",
       "      <td>78796.0</td>\n",
       "      <td>unemployed</td>\n",
       "      <td>australia</td>\n",
       "      <td>3</td>\n",
       "      <td>0.69</td>\n",
       "      <td>1</td>\n",
       "    </tr>\n",
       "    <tr>\n",
       "      <th>3</th>\n",
       "      <td>paid_ads</td>\n",
       "      <td>retail</td>\n",
       "      <td>2</td>\n",
       "      <td>83843.0</td>\n",
       "      <td>NaN</td>\n",
       "      <td>australia</td>\n",
       "      <td>1</td>\n",
       "      <td>0.87</td>\n",
       "      <td>0</td>\n",
       "    </tr>\n",
       "    <tr>\n",
       "      <th>4</th>\n",
       "      <td>referral</td>\n",
       "      <td>education</td>\n",
       "      <td>3</td>\n",
       "      <td>85012.0</td>\n",
       "      <td>self_employed</td>\n",
       "      <td>europe</td>\n",
       "      <td>3</td>\n",
       "      <td>0.62</td>\n",
       "      <td>1</td>\n",
       "    </tr>\n",
       "  </tbody>\n",
       "</table>\n",
       "</div>"
      ],
      "text/plain": [
       "    lead_source    industry  number_of_courses_viewed  annual_income  \\\n",
       "0      paid_ads         NaN                         1        79450.0   \n",
       "1  social_media      retail                         1        46992.0   \n",
       "2        events  healthcare                         5        78796.0   \n",
       "3      paid_ads      retail                         2        83843.0   \n",
       "4      referral   education                         3        85012.0   \n",
       "\n",
       "  employment_status       location  interaction_count  lead_score  converted  \n",
       "0        unemployed  south_america                  4        0.94          1  \n",
       "1          employed  south_america                  1        0.80          0  \n",
       "2        unemployed      australia                  3        0.69          1  \n",
       "3               NaN      australia                  1        0.87          0  \n",
       "4     self_employed         europe                  3        0.62          1  "
      ]
     },
     "execution_count": 2,
     "metadata": {},
     "output_type": "execute_result"
    }
   ],
   "source": [
    "url= 'https://raw.githubusercontent.com/alexeygrigorev/datasets/master/course_lead_scoring.csv'\n",
    "df = pd.read_csv(url)\n",
    "\n",
    "df.columns = df.columns.str.lower().str.replace(' ', '_')\n",
    "df.head(5)"
   ]
  },
  {
   "cell_type": "code",
   "execution_count": 3,
   "id": "52c3920f",
   "metadata": {},
   "outputs": [
    {
     "data": {
      "text/plain": [
       "lead_source                 128\n",
       "industry                    134\n",
       "number_of_courses_viewed      0\n",
       "annual_income               181\n",
       "employment_status           100\n",
       "location                     63\n",
       "interaction_count             0\n",
       "lead_score                    0\n",
       "converted                     0\n",
       "dtype: int64"
      ]
     },
     "execution_count": 3,
     "metadata": {},
     "output_type": "execute_result"
    }
   ],
   "source": [
    "df.isna().sum()"
   ]
  },
  {
   "cell_type": "code",
   "execution_count": 4,
   "id": "a7ff3f00",
   "metadata": {},
   "outputs": [],
   "source": [
    "df.columns= df.columns.str.lower().str.replace(' ', '_')\n",
    "categorical_columns = list(df.dtypes[df.dtypes == 'object'].index)\n",
    "\n",
    "for column in categorical_columns:\n",
    "    df[column] = df[column].str.lower().str.replace(' ', '_')\n",
    "    #df[column].fillna('NA', inplace=True)\n",
    "    df.fillna({column:'NA'}, inplace=True)\n"
   ]
  },
  {
   "cell_type": "code",
   "execution_count": 5,
   "id": "9327f976",
   "metadata": {},
   "outputs": [],
   "source": [
    "numerical_columns = list(df.dtypes[df.dtypes != 'object'].index)"
   ]
  },
  {
   "cell_type": "code",
   "execution_count": 6,
   "id": "d4ae8e59",
   "metadata": {},
   "outputs": [
    {
     "data": {
      "text/plain": [
       "lead_source                 0\n",
       "industry                    0\n",
       "number_of_courses_viewed    0\n",
       "annual_income               0\n",
       "employment_status           0\n",
       "location                    0\n",
       "interaction_count           0\n",
       "lead_score                  0\n",
       "converted                   0\n",
       "dtype: int64"
      ]
     },
     "execution_count": 6,
     "metadata": {},
     "output_type": "execute_result"
    }
   ],
   "source": [
    "df.fillna({'annual_income':0}, inplace=True)\n",
    "df.isna().sum()"
   ]
  },
  {
   "cell_type": "code",
   "execution_count": 7,
   "id": "660953d8",
   "metadata": {},
   "outputs": [],
   "source": [
    "df_full_train, df_test = train_test_split(df, test_size=0.2, random_state=42)\n",
    "df_train, df_val = train_test_split(df_full_train,test_size=0.25, random_state=42) #20% of the orignal df\n",
    "\n",
    "df_train= df_train.reset_index(drop= True)\n",
    "df_val= df_val.reset_index(drop= True)\n",
    "df_test= df_test.reset_index(drop= True)\n",
    "\n",
    "y_train=df_train.converted.values\n",
    "y_val=df_val.converted.values\n",
    "y_test=df_test.converted.values\n",
    "\n",
    "del df_train['converted']\n",
    "del df_val['converted']\n",
    "del df_test['converted']"
   ]
  },
  {
   "cell_type": "code",
   "execution_count": 8,
   "id": "4aa7f177",
   "metadata": {},
   "outputs": [],
   "source": [
    "numerical_columns = list(df_train.dtypes[df_train.dtypes != 'object'].index)"
   ]
  },
  {
   "cell_type": "code",
   "execution_count": 9,
   "id": "59a49770",
   "metadata": {},
   "outputs": [],
   "source": [
    "from sklearn.feature_extraction import DictVectorizer\n",
    "dv= DictVectorizer(sparse=False)\n",
    "train_dict= df_train[categorical_columns + numerical_columns].to_dict(orient= 'records')\n",
    "X_train= dv.fit_transform(train_dict)\n",
    "\n",
    "val_dict=df_val[categorical_columns + numerical_columns].to_dict(orient= 'records')\n",
    "X_val= dv.fit_transform(val_dict)"
   ]
  },
  {
   "cell_type": "markdown",
   "id": "bc8a61eb",
   "metadata": {},
   "source": [
    "Question 1: ROC AUC feature importance"
   ]
  },
  {
   "cell_type": "code",
   "execution_count": 10,
   "id": "65f74575",
   "metadata": {},
   "outputs": [
    {
     "name": "stdout",
     "output_type": "stream",
     "text": [
      "Variable with highest AUC: number_of_courses_viewed\n",
      "AUC value: 0.7550107522101766\n"
     ]
    }
   ],
   "source": [
    "from sklearn.metrics import roc_auc_score\n",
    "\n",
    "numerical_vars = ['lead_score', 'number_of_courses_viewed', 'interaction_count', 'annual_income']\n",
    "auc_scores = {}\n",
    "\n",
    "for var in numerical_vars:\n",
    "    score = df_train[var]\n",
    "   \n",
    "    auc = roc_auc_score(y_train, score)\n",
    "    \n",
    "    # if AUC less than 0.5, use negative\n",
    "    if auc < 0.5:\n",
    "        auc = roc_auc_score(y_train, -score)\n",
    "    \n",
    "    auc_scores[var] = auc\n",
    "\n",
    "# Who is the best\n",
    "best_var = max(auc_scores, key=auc_scores.get)\n",
    "print(\"Variable with highest AUC:\", best_var)\n",
    "print(\"AUC value:\", auc_scores[best_var])\n"
   ]
  },
  {
   "cell_type": "markdown",
   "id": "3b0c6037",
   "metadata": {},
   "source": [
    "Question 2: Training the model"
   ]
  },
  {
   "cell_type": "code",
   "execution_count": 11,
   "id": "917fdf5f",
   "metadata": {},
   "outputs": [],
   "source": [
    "def train(df_train, y_train, C=1.0):\n",
    "    dicts = df_train[categorical_columns + numerical_columns].to_dict(orient='records')\n",
    "\n",
    "    dv = DictVectorizer(sparse=False)\n",
    "    X_train = dv.fit_transform(dicts)\n",
    "\n",
    "    model = LogisticRegression(solver='liblinear', C=C, max_iter=1000)\n",
    "    model.fit(X_train, y_train)\n",
    "    \n",
    "    return dv, model"
   ]
  },
  {
   "cell_type": "code",
   "execution_count": 12,
   "id": "70685e72",
   "metadata": {},
   "outputs": [],
   "source": [
    "def predict(df, dv, model):\n",
    "    dicts = df[categorical_columns + numerical_columns].to_dict(orient='records')\n",
    "\n",
    "    X = dv.transform(dicts)\n",
    "    y_pred = model.predict_proba(X)[:, 1]\n",
    "\n",
    "    return y_pred"
   ]
  },
  {
   "cell_type": "code",
   "execution_count": 13,
   "id": "d5f96d7f",
   "metadata": {},
   "outputs": [],
   "source": [
    "dv, model = train(df_train, y_train, C=1.0)"
   ]
  },
  {
   "cell_type": "code",
   "execution_count": 14,
   "id": "cb5e89e8",
   "metadata": {},
   "outputs": [],
   "source": [
    "\n",
    "y_pred = predict(df_val, dv, model)"
   ]
  },
  {
   "cell_type": "code",
   "execution_count": 15,
   "id": "f838cee0",
   "metadata": {},
   "outputs": [
    {
     "data": {
      "text/plain": [
       "0.855"
      ]
     },
     "execution_count": 15,
     "metadata": {},
     "output_type": "execute_result"
    }
   ],
   "source": [
    "auc = roc_auc_score(y_val, y_pred)\n",
    "round(auc, 3)"
   ]
  },
  {
   "cell_type": "markdown",
   "id": "5dc7e60d",
   "metadata": {},
   "source": [
    "Question 3: Precision and Recall"
   ]
  },
  {
   "cell_type": "code",
   "execution_count": 16,
   "id": "a858e534",
   "metadata": {},
   "outputs": [
    {
     "name": "stdout",
     "output_type": "stream",
     "text": [
      "[0.   0.01 0.02 0.03 0.04 0.05 0.06 0.07 0.08 0.09 0.1  0.11 0.12 0.13\n",
      " 0.14 0.15 0.16 0.17 0.18 0.19 0.2  0.21 0.22 0.23 0.24 0.25 0.26 0.27\n",
      " 0.28 0.29 0.3  0.31 0.32 0.33 0.34 0.35 0.36 0.37 0.38 0.39 0.4  0.41\n",
      " 0.42 0.43 0.44 0.45 0.46 0.47 0.48 0.49 0.5  0.51 0.52 0.53 0.54 0.55\n",
      " 0.56 0.57 0.58 0.59 0.6  0.61 0.62 0.63 0.64 0.65 0.66 0.67 0.68 0.69\n",
      " 0.7  0.71 0.72 0.73 0.74 0.75 0.76 0.77 0.78 0.79 0.8  0.81 0.82 0.83\n",
      " 0.84 0.85 0.86 0.87 0.88 0.89 0.9  0.91 0.92 0.93 0.94 0.95 0.96 0.97\n",
      " 0.98 0.99 1.  ]\n"
     ]
    },
    {
     "name": "stdout",
     "output_type": "stream",
     "text": [
      "[0.5563139931740614, 0.5563139931740614, 0.5563139931740614, 0.5563139931740614, 0.5563139931740614, 0.5563139931740614, 0.5563139931740614, 0.5563139931740614, 0.5563139931740614, 0.5563139931740614, 0.5563139931740614, 0.5563139931740614, 0.5563139931740614, 0.5563139931740614, 0.5563139931740614, 0.5563139931740614, 0.5563139931740614, 0.5563139931740614, 0.5563139931740614, 0.5563139931740614, 0.5563139931740614, 0.5582191780821918, 0.5582191780821918, 0.5601374570446735, 0.5620689655172414, 0.5620689655172414, 0.5620689655172414, 0.5620689655172414, 0.5620689655172414, 0.5640138408304498, 0.5640138408304498, 0.5679442508710801, 0.5699300699300699, 0.5699300699300699, 0.5780141843971631, 0.5800711743772242, 0.5827338129496403, 0.5869565217391305, 0.5897435897435898, 0.5947955390334573, 0.5947955390334573, 0.599250936329588, 0.6083650190114068, 0.61003861003861, 0.6205533596837944, 0.6305220883534136, 0.6356275303643725, 0.639344262295082, 0.6527196652719666, 0.6540084388185654, 0.6595744680851063, 0.670995670995671, 0.6769911504424779, 0.6891891891891891, 0.7018348623853211, 0.7149532710280374, 0.7251184834123223, 0.7378640776699029, 0.745, 0.7424242424242424, 0.75, 0.7591623036649214, 0.7909604519774012, 0.7861271676300579, 0.7878787878787878, 0.8, 0.8181818181818182, 0.8266666666666667, 0.8287671232876712, 0.8285714285714286, 0.8307692307692308, 0.8536585365853658, 0.8695652173913043, 0.8807339449541285, 0.8846153846153846, 0.8877551020408163, 0.8863636363636364, 0.8928571428571429, 0.9012345679012346, 0.9459459459459459, 0.9393939393939394, 0.95, 0.9464285714285714, 0.9433962264150944, 0.94, 0.9523809523809523, 0.9459459459459459, 0.96875, 0.967741935483871, 0.9655172413793104, 1.0, 1.0, 1.0, 1.0, 1.0, 1.0, 1.0, 1.0] [1.0, 1.0, 1.0, 1.0, 1.0, 1.0, 1.0, 1.0, 1.0, 1.0, 1.0, 1.0, 1.0, 1.0, 1.0, 1.0, 1.0, 1.0, 1.0, 1.0, 1.0, 1.0, 1.0, 1.0, 1.0, 1.0, 1.0, 1.0, 1.0, 1.0, 1.0, 1.0, 1.0, 1.0, 1.0, 1.0, 0.9938650306748467, 0.9938650306748467, 0.9877300613496932, 0.9815950920245399, 0.9815950920245399, 0.9815950920245399, 0.9815950920245399, 0.9693251533742331, 0.9631901840490797, 0.9631901840490797, 0.9631901840490797, 0.9570552147239264, 0.9570552147239264, 0.950920245398773, 0.950920245398773, 0.950920245398773, 0.9386503067484663, 0.9386503067484663, 0.9386503067484663, 0.9386503067484663, 0.9386503067484663, 0.9325153374233128, 0.9141104294478528, 0.901840490797546, 0.901840490797546, 0.8895705521472392, 0.8588957055214724, 0.8343558282208589, 0.7975460122699386, 0.7852760736196319, 0.7730061349693251, 0.7607361963190185, 0.7423312883435583, 0.7116564417177914, 0.6625766871165644, 0.6441717791411042, 0.6134969325153374, 0.588957055214724, 0.5644171779141104, 0.5337423312883436, 0.4785276073619632, 0.4601226993865031, 0.44785276073619634, 0.4294478527607362, 0.3803680981595092, 0.3496932515337423, 0.32515337423312884, 0.3067484662576687, 0.2883435582822086, 0.24539877300613497, 0.2147239263803681, 0.1901840490797546, 0.18404907975460122, 0.17177914110429449, 0.1165644171779141, 0.09202453987730061, 0.07975460122699386, 0.05521472392638037, 0.049079754601226995, 0.03680981595092025, 0.024539877300613498, 0.012269938650306749]\n"
     ]
    },
    {
     "data": {
      "image/png": "[encoded data removed]",
      "text/plain": [
       "<Figure size 1000x600 with 1 Axes>"
      ]
     },
     "metadata": {},
     "output_type": "display_data"
    },
    {
     "name": "stdout",
     "output_type": "stream",
     "text": [
      "Precision ≈ Recall at threshold ≈ 0.64\n"
     ]
    }
   ],
   "source": [
    "from sklearn.metrics import precision_score, recall_score\n",
    "thresholds = np.arange(0.0, 1.01, 0.01)\n",
    "precisions = []\n",
    "recalls = []\n",
    "valid_thresholds = []\n",
    "print(thresholds)\n",
    "\n",
    "for t in thresholds:\n",
    "    y_pred_bin = (y_pred >= t).astype(int)\n",
    "\n",
    "    if y_pred_bin.sum() == 0:\n",
    "        continue\n",
    "\n",
    "\n",
    "    precisions.append(precision_score(y_val, y_pred_bin))\n",
    "    recalls.append(recall_score(y_val, y_pred_bin))\n",
    "    valid_thresholds.append(t)\n",
    "print(precisions, recalls)\n",
    "\n",
    "plt.figure(figsize=(10, 6))\n",
    "plt.plot(valid_thresholds, precisions, label='Precision')\n",
    "plt.plot(valid_thresholds, recalls, label='Recall')\n",
    "plt.xlabel('Threshold')\n",
    "plt.ylabel('Score')\n",
    "plt.title('Precision and Recall vs Threshold')\n",
    "plt.legend()\n",
    "plt.grid()\n",
    "plt.show()\n",
    "\n",
    "# Hol metszik egymást?\n",
    "diffs = np.abs(np.array(precisions) - np.array(recalls))\n",
    "intersection_threshold = valid_thresholds[np.argmin(diffs)]\n",
    "print(f\"Precision ≈ Recall at threshold ≈ {intersection_threshold:.2f}\")"
   ]
  },
  {
   "cell_type": "markdown",
   "id": "52c60eb8",
   "metadata": {},
   "source": [
    "Question 4: F1 score"
   ]
  },
  {
   "cell_type": "code",
   "execution_count": 17,
   "id": "e886c0fd",
   "metadata": {},
   "outputs": [
    {
     "name": "stdout",
     "output_type": "stream",
     "text": [
      "[0.5563139931740614, 0.5563139931740614, 0.5563139931740614, 0.5563139931740614, 0.5563139931740614, 0.5563139931740614, 0.5563139931740614, 0.5563139931740614, 0.5563139931740614, 0.5563139931740614, 0.5563139931740614, 0.5563139931740614, 0.5563139931740614, 0.5563139931740614, 0.5563139931740614, 0.5563139931740614, 0.5563139931740614, 0.5563139931740614, 0.5563139931740614, 0.5563139931740614, 0.5563139931740614, 0.5582191780821918, 0.5582191780821918, 0.5601374570446735, 0.5620689655172414, 0.5620689655172414, 0.5620689655172414, 0.5620689655172414, 0.5620689655172414, 0.5640138408304498, 0.5640138408304498, 0.5679442508710801, 0.5699300699300699, 0.5699300699300699, 0.5780141843971631, 0.5800711743772242, 0.5827338129496403, 0.5869565217391305, 0.5897435897435898, 0.5947955390334573, 0.5947955390334573, 0.599250936329588, 0.6083650190114068, 0.61003861003861, 0.6205533596837944, 0.6305220883534136, 0.6356275303643725, 0.639344262295082, 0.6527196652719666, 0.6540084388185654, 0.6595744680851063, 0.670995670995671, 0.6769911504424779, 0.6891891891891891, 0.7018348623853211, 0.7149532710280374, 0.7251184834123223, 0.7378640776699029, 0.745, 0.7424242424242424, 0.75, 0.7591623036649214, 0.7909604519774012, 0.7861271676300579, 0.7878787878787878, 0.8, 0.8181818181818182, 0.8266666666666667, 0.8287671232876712, 0.8285714285714286, 0.8307692307692308, 0.8536585365853658, 0.8695652173913043, 0.8807339449541285, 0.8846153846153846, 0.8877551020408163, 0.8863636363636364, 0.8928571428571429, 0.9012345679012346, 0.9459459459459459, 0.9393939393939394, 0.95, 0.9464285714285714, 0.9433962264150944, 0.94, 0.9523809523809523, 0.9459459459459459, 0.96875, 0.967741935483871, 0.9655172413793104, 1.0, 1.0, 1.0, 1.0, 1.0, 1.0, 1.0, 1.0] [1.0, 1.0, 1.0, 1.0, 1.0, 1.0, 1.0, 1.0, 1.0, 1.0, 1.0, 1.0, 1.0, 1.0, 1.0, 1.0, 1.0, 1.0, 1.0, 1.0, 1.0, 1.0, 1.0, 1.0, 1.0, 1.0, 1.0, 1.0, 1.0, 1.0, 1.0, 1.0, 1.0, 1.0, 1.0, 1.0, 0.9938650306748467, 0.9938650306748467, 0.9877300613496932, 0.9815950920245399, 0.9815950920245399, 0.9815950920245399, 0.9815950920245399, 0.9693251533742331, 0.9631901840490797, 0.9631901840490797, 0.9631901840490797, 0.9570552147239264, 0.9570552147239264, 0.950920245398773, 0.950920245398773, 0.950920245398773, 0.9386503067484663, 0.9386503067484663, 0.9386503067484663, 0.9386503067484663, 0.9386503067484663, 0.9325153374233128, 0.9141104294478528, 0.901840490797546, 0.901840490797546, 0.8895705521472392, 0.8588957055214724, 0.8343558282208589, 0.7975460122699386, 0.7852760736196319, 0.7730061349693251, 0.7607361963190185, 0.7423312883435583, 0.7116564417177914, 0.6625766871165644, 0.6441717791411042, 0.6134969325153374, 0.588957055214724, 0.5644171779141104, 0.5337423312883436, 0.4785276073619632, 0.4601226993865031, 0.44785276073619634, 0.4294478527607362, 0.3803680981595092, 0.3496932515337423, 0.32515337423312884, 0.3067484662576687, 0.2883435582822086, 0.24539877300613497, 0.2147239263803681, 0.1901840490797546, 0.18404907975460122, 0.17177914110429449, 0.1165644171779141, 0.09202453987730061, 0.07975460122699386, 0.05521472392638037, 0.049079754601226995, 0.03680981595092025, 0.024539877300613498, 0.012269938650306749]\n",
      "[0.7149122807017543, 0.7149122807017543, 0.7149122807017543, 0.7149122807017543, 0.7149122807017543, 0.7149122807017543, 0.7149122807017543, 0.7149122807017543, 0.7149122807017543, 0.7149122807017543, 0.7149122807017543, 0.7149122807017543, 0.7149122807017543, 0.7149122807017543, 0.7149122807017543, 0.7149122807017543, 0.7149122807017543, 0.7149122807017543, 0.7149122807017543, 0.7149122807017543, 0.7149122807017543, 0.7164835164835165, 0.7164835164835165, 0.7180616740088106, 0.7196467991169978, 0.7196467991169978, 0.7196467991169978, 0.7196467991169978, 0.7196467991169978, 0.7212389380530974, 0.7212389380530974, 0.7244444444444444, 0.7260579064587972, 0.7260579064587972, 0.7325842696629213, 0.7342342342342343, 0.7346938775510204, 0.7380410022779045, 0.7385321100917431, 0.7407407407407408, 0.7407407407407408, 0.7441860465116279, 0.7511737089201878, 0.7488151658767773, 0.7548076923076923, 0.7621359223300971, 0.7658536585365853, 0.7665847665847666, 0.7761194029850748, 0.775, 0.7788944723618091, 0.7868020304568529, 0.7866323907455013, 0.7948051948051948, 0.8031496062992126, 0.8116710875331564, 0.8181818181818183, 0.8238482384823848, 0.8209366391184573, 0.8144044321329641, 0.8189415041782729, 0.8192090395480226, 0.823529411764706, 0.8095238095238094, 0.7926829268292681, 0.7925696594427244, 0.7949526813880126, 0.7923322683706071, 0.7831715210355987, 0.7656765676567657, 0.7372013651877134, 0.7342657342657342, 0.7194244604316548, 0.7058823529411764, 0.6891385767790262, 0.6666666666666667, 0.6215139442231076, 0.6072874493927126, 0.5983606557377049, 0.5907172995780591, 0.5414847161572053, 0.5112107623318386, 0.48401826484018257, 0.46296296296296297, 0.4413145539906103, 0.3902439024390244, 0.35000000000000003, 0.31794871794871793, 0.3092783505154639, 0.2916666666666667, 0.20879120879120877, 0.16853932584269662, 0.14772727272727273, 0.10465116279069768, 0.09356725146198831, 0.07100591715976332, 0.04790419161676646, 0.024242424242424246]\n",
      "0.8238482384823848\n"
     ]
    }
   ],
   "source": [
    "from sklearn.metrics import precision_score, recall_score\n",
    "thresholds = np.arange(0.0, 1.01, 0.01)\n",
    "precisions = []\n",
    "recalls = []\n",
    "valid_thresholds = []\n",
    "f1 = []\n",
    "\n",
    "for t in thresholds:\n",
    "    y_pred_bin = (y_pred >= t).astype(int)\n",
    "\n",
    "    if y_pred_bin.sum() == 0:\n",
    "        continue\n",
    "    p= precision_score(y_val, y_pred_bin)\n",
    "    r = recall_score(y_val, y_pred_bin)\n",
    "    f1_value = 2*(p*r/(p+r))\n",
    "    f1.append(f1_value)\n",
    "    precisions.append(p)\n",
    "    recalls.append(r)\n",
    "    valid_thresholds.append(t)\n",
    "print(precisions, recalls)\n",
    "print(f1)\n",
    "print(max(f1))\n"
   ]
  },
  {
   "cell_type": "markdown",
   "id": "7fda07e6",
   "metadata": {},
   "source": [
    "Question 5: 5-Fold CV % Question 6: several c"
   ]
  },
  {
   "cell_type": "code",
   "execution_count": 20,
   "id": "db0c0bd6",
   "metadata": {},
   "outputs": [
    {
     "data": {
      "application/vnd.jupyter.widget-view+json": {
       "model_id": "271b50fd9781495fa72523fde5e6ad62",
       "version_major": 2,
       "version_minor": 0
      },
      "text/plain": [
       "  0%|          | 0/3 [00:00<?, ?it/s]"
      ]
     },
     "metadata": {},
     "output_type": "display_data"
    },
    {
     "name": "stdout",
     "output_type": "stream",
     "text": [
      "C=1e-06 0.540 +- 0.030\n",
      "C=0.001 0.860 +- 0.038\n",
      "C=1 0.827 +- 0.035\n"
     ]
    }
   ],
   "source": [
    "\n",
    "from sklearn.model_selection import KFold\n",
    "from tqdm.auto import tqdm\n",
    "\n",
    "\n",
    "n_splits = 5\n",
    "\n",
    "for C in tqdm([0.000001, 0.001, 1]):\n",
    "    kfold = KFold(n_splits=n_splits, shuffle=True, random_state=1)\n",
    "\n",
    "    scores = []\n",
    "\n",
    "    for train_idx, val_idx in kfold.split(df_full_train):\n",
    "        df_train = df_full_train.iloc[train_idx]\n",
    "        df_val = df_full_train.iloc[val_idx]\n",
    "\n",
    "        y_train = df_train.converted.values\n",
    "        y_val = df_val.converted.values\n",
    "\n",
    "        dv, model = train(df_train, y_train, C=C)\n",
    "        y_pred = predict(df_val, dv, model)\n",
    "\n",
    "        auc = roc_auc_score(y_val, y_pred)\n",
    "        scores.append(auc)\n",
    "\n",
    "    print('C=%s %.3f +- %.3f' % (C, np.mean(scores), np.std(scores)))\n",
    "\n",
    "\n",
    "\n",
    "\n"
   ]
  }
 ],
 "metadata": {
  "kernelspec": {
   "display_name": "Python 3",
   "language": "python",
   "name": "python3"
  },
  "language_info": {
   "codemirror_mode": {
    "name": "ipython",
    "version": 3
   },
   "file_extension": ".py",
   "mimetype": "text/x-python",
   "name": "python",
   "nbconvert_exporter": "python",
   "pygments_lexer": "ipython3",
   "version": "3.12.1"
  }
 },
 "nbformat": 4,
 "nbformat_minor": 5
}
